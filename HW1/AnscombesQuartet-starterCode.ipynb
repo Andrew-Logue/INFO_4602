{
 "cells": [
  {
   "cell_type": "markdown",
   "id": "99fb9a99",
   "metadata": {},
   "source": [
    "### Lets start off by exploring some data\n",
    "- Load the file `dataset1.csv` from Canvas\n",
    "- For this notebook, you should be familiar with a few statistical ideas:\n",
    "    - [Mean](https://en.wikipedia.org/wiki/Mean)\n",
    "    - [Standard deviation](https://en.wikipedia.org/wiki/Standard_deviation)\n",
    "    - [Correlation](https://numpy.org/doc/stable/reference/generated/numpy.corrcoef.html)\n",
    "\n",
    "You can easily look up how to compute these statistics in Python using a package like numpy."
   ]
  },
  {
   "cell_type": "code",
   "execution_count": 11,
   "id": "48a8e986",
   "metadata": {},
   "outputs": [
    {
     "name": "stdout",
     "output_type": "stream",
     "text": [
      "[ 8.04  6.95  7.58  8.81  8.33  9.96  7.24  4.26 10.84  4.82  5.68]\n"
     ]
    }
   ],
   "source": [
    "import pandas as pd \n",
    "import numpy as np\n",
    "df1 = pd.read_csv(\"dataset1.csv\")\n",
    "df1 = np.array(df1)\n",
    "print(df1[0:, 2]) "
   ]
  },
  {
   "cell_type": "markdown",
   "id": "b221caa9",
   "metadata": {},
   "source": [
    "### Dataset 1\n",
    "\n",
    "##### Compute the mean \n",
    "\n",
    "Using the software of your choice (numpy?), compute the mean of the the `y` values in the first dataset."
   ]
  },
  {
   "cell_type": "code",
   "execution_count": 12,
   "id": "6b13c22e",
   "metadata": {},
   "outputs": [
    {
     "name": "stdout",
     "output_type": "stream",
     "text": [
      "mean of y:  7.500909090909093\n"
     ]
    }
   ],
   "source": [
    "print(\"mean of y: \", np.mean(df1[0:, 2]))"
   ]
  },
  {
   "cell_type": "markdown",
   "id": "3aad3ea2",
   "metadata": {},
   "source": [
    "- Now compute the mean of the `x` values in the dataset "
   ]
  },
  {
   "cell_type": "code",
   "execution_count": 13,
   "id": "2d21c5c9",
   "metadata": {},
   "outputs": [
    {
     "name": "stdout",
     "output_type": "stream",
     "text": [
      "mean of x:  9.0\n"
     ]
    }
   ],
   "source": [
    "print(\"mean of x: \", np.mean(df1[0:, 1]))"
   ]
  },
  {
   "cell_type": "markdown",
   "id": "3439b8bc",
   "metadata": {},
   "source": [
    "##### Compute the standard deviation \n",
    "\n",
    "- Compute the standard deviation of `x` and `y`"
   ]
  },
  {
   "cell_type": "code",
   "execution_count": 14,
   "id": "1b9a1312",
   "metadata": {},
   "outputs": [
    {
     "name": "stdout",
     "output_type": "stream",
     "text": [
      "std of x:  3.1622776601683795\n",
      "std of y:  1.937024215108669\n"
     ]
    }
   ],
   "source": [
    "print(\"std of x: \", np.std(df1[0:, 1]))\n",
    "\n",
    "print(\"std of y: \", np.std(df1[0:, 2]))\n",
    "\n"
   ]
  },
  {
   "cell_type": "markdown",
   "id": "42348cbe",
   "metadata": {},
   "source": [
    "##### Compute the correlation\n",
    "\n",
    "- Compute the correlation of `x` and `y`"
   ]
  },
  {
   "cell_type": "code",
   "execution_count": 15,
   "id": "fc866651",
   "metadata": {},
   "outputs": [
    {
     "name": "stdout",
     "output_type": "stream",
     "text": [
      "correlation of x and y:  [797.6]\n"
     ]
    }
   ],
   "source": [
    "print(\"correlation of x and y: \", np.correlate(df1[0:, 1], df1[0:, 2]))"
   ]
  },
  {
   "cell_type": "markdown",
   "id": "28332a64",
   "metadata": {},
   "source": [
    "### Generalize your code by writing a method"
   ]
  },
  {
   "cell_type": "code",
   "execution_count": 16,
   "id": "e5aefda9",
   "metadata": {},
   "outputs": [],
   "source": [
    "def summary_stats(file_name):\n",
    "    '''\n",
    "    Read in a file called `file_name` and return a dictionary of summary stats\n",
    "    \n",
    "    \"mean_x\": The mean of the x observation\n",
    "    \"mean_y\": The mean of the y observation\n",
    "    \"sd_x\": The standard deviation of the x observation\n",
    "    \"sd_y\": The standard deviation of the y observation\n",
    "    \"corr\": The correlation between x and y\n",
    "    '''\n",
    "    output = {\"mean_x\": None,\n",
    "              \"mean_y\": None,\n",
    "              \"sd_x\": None,\n",
    "              \"sd_y\": None,\n",
    "              \"corr\": None}\n",
    "    df = pd.read_csv(file_name)\n",
    "\n",
    "    # your code here\n",
    "    df = np.array(df)\n",
    "    mean_x = np.mean(df[0:, 1])\n",
    "    mean_y = np.mean(df[0:, 2])\n",
    "    sd_x = np.std(df[0:, 1])\n",
    "    sd_y = np.std(df[0:, 2])\n",
    "    corr = np.correlate(df[0:, 1], df[0:, 2])\n",
    "    \n",
    "    output = {\"mean_x\": mean_x,\n",
    "              \"mean_y\": mean_y,\n",
    "              \"sd_x\": sd_x,\n",
    "              \"sd_y\": sd_y,\n",
    "              \"corr\": corr}\n",
    "    \n",
    "    print(output)\n",
    "    \n",
    "    return output"
   ]
  },
  {
   "cell_type": "code",
   "execution_count": 17,
   "id": "3eb6dddf",
   "metadata": {},
   "outputs": [
    {
     "name": "stdout",
     "output_type": "stream",
     "text": [
      "{'mean_x': 9.0, 'mean_y': 7.500909090909093, 'sd_x': 3.1622776601683795, 'sd_y': 1.937024215108669, 'corr': array([797.6])}\n"
     ]
    },
    {
     "data": {
      "text/plain": [
       "{'mean_x': 9.0,\n",
       " 'mean_y': 7.500909090909093,\n",
       " 'sd_x': 3.1622776601683795,\n",
       " 'sd_y': 1.937024215108669,\n",
       " 'corr': array([797.6])}"
      ]
     },
     "execution_count": 17,
     "metadata": {},
     "output_type": "execute_result"
    }
   ],
   "source": [
    "summary_stats(\"dataset1.csv\")"
   ]
  },
  {
   "cell_type": "markdown",
   "id": "7200ed06",
   "metadata": {},
   "source": [
    "### Use your method to compute summary statistics for the four datasets"
   ]
  },
  {
   "cell_type": "code",
   "execution_count": 18,
   "id": "58654624",
   "metadata": {},
   "outputs": [
    {
     "name": "stdout",
     "output_type": "stream",
     "text": [
      "{'mean_x': 9.0, 'mean_y': 7.500909090909093, 'sd_x': 3.1622776601683795, 'sd_y': 1.937024215108669, 'corr': array([797.6])}\n",
      "{'mean_x': 9.0, 'mean_y': 7.50090909090909, 'sd_x': 3.1622776601683795, 'sd_y': 1.93710869148962, 'corr': array([797.59])}\n",
      "{'mean_x': 9.0, 'mean_y': 7.5, 'sd_x': 3.1622776601683795, 'sd_y': 1.9359329439927313, 'corr': array([797.47])}\n",
      "{'mean_x': 9.0, 'mean_y': 7.500909090909091, 'sd_x': 3.1622776601683795, 'sd_y': 1.9360806451340837, 'corr': array([721.44])}\n"
     ]
    }
   ],
   "source": [
    "for i in range(1, 5):\n",
    "    file_name = \"dataset{}.csv\".format(i)\n",
    "    # pass\n",
    "    summary_stats(file_name)"
   ]
  },
  {
   "cell_type": "markdown",
   "id": "4de2a19e",
   "metadata": {},
   "source": [
    "### Comment on your observations\n",
    "\n",
    "Based on your code so far, do you think the datasets are identical? Can you spot any differences? Explain your reasoning\n",
    "\n",
    "Answer:\n",
    "\n",
    "Based on the code so far, I have observed that while the mean of x and y are the same for each dataset, the standard deviation varies for datasets 3 and 4. Additionally, the correlation of columns x and y vary for each dataset. Thus we know that the data sets are NOT identical. "
   ]
  },
  {
   "cell_type": "markdown",
   "id": "d271fd22",
   "metadata": {},
   "source": [
    "### Now let's make some scatter plots!"
   ]
  },
  {
   "cell_type": "code",
   "execution_count": 28,
   "id": "4a51c333",
   "metadata": {},
   "outputs": [],
   "source": [
    "import altair as alt \n",
    "\n",
    "charts = [] \n",
    "\n",
    "for i in range(1, 5):\n",
    "\n",
    "    c = alt.Chart(pd.read_csv(\"dataset{}.csv\".format(i))).mark_circle().encode(\n",
    "        x='x',\n",
    "        y='y'\n",
    "    ).properties(\n",
    "        height=100,\n",
    "        width=100\n",
    "    )\n",
    "    \n",
    "    charts.append(c)\n"
   ]
  },
  {
   "cell_type": "code",
   "execution_count": 29,
   "id": "855f2ed3-7230-42c8-a227-81a534711697",
   "metadata": {},
   "outputs": [
    {
     "name": "stderr",
     "output_type": "stream",
     "text": [
      "/opt/conda/lib/python3.10/site-packages/altair/utils/core.py:317: FutureWarning: iteritems is deprecated and will be removed in a future version. Use .items instead.\n",
      "  for col_name, dtype in df.dtypes.iteritems():\n"
     ]
    },
    {
     "data": {
      "text/html": [
       "\n",
       "<div id=\"altair-viz-74f7137c99754dfcb690b0a7470bb89d\"></div>\n",
       "<script type=\"text/javascript\">\n",
       "  var VEGA_DEBUG = (typeof VEGA_DEBUG == \"undefined\") ? {} : VEGA_DEBUG;\n",
       "  (function(spec, embedOpt){\n",
       "    let outputDiv = document.currentScript.previousElementSibling;\n",
       "    if (outputDiv.id !== \"altair-viz-74f7137c99754dfcb690b0a7470bb89d\") {\n",
       "      outputDiv = document.getElementById(\"altair-viz-74f7137c99754dfcb690b0a7470bb89d\");\n",
       "    }\n",
       "    const paths = {\n",
       "      \"vega\": \"https://cdn.jsdelivr.net/npm//vega@5?noext\",\n",
       "      \"vega-lib\": \"https://cdn.jsdelivr.net/npm//vega-lib?noext\",\n",
       "      \"vega-lite\": \"https://cdn.jsdelivr.net/npm//vega-lite@4.17.0?noext\",\n",
       "      \"vega-embed\": \"https://cdn.jsdelivr.net/npm//vega-embed@6?noext\",\n",
       "    };\n",
       "\n",
       "    function maybeLoadScript(lib, version) {\n",
       "      var key = `${lib.replace(\"-\", \"\")}_version`;\n",
       "      return (VEGA_DEBUG[key] == version) ?\n",
       "        Promise.resolve(paths[lib]) :\n",
       "        new Promise(function(resolve, reject) {\n",
       "          var s = document.createElement('script');\n",
       "          document.getElementsByTagName(\"head\")[0].appendChild(s);\n",
       "          s.async = true;\n",
       "          s.onload = () => {\n",
       "            VEGA_DEBUG[key] = version;\n",
       "            return resolve(paths[lib]);\n",
       "          };\n",
       "          s.onerror = () => reject(`Error loading script: ${paths[lib]}`);\n",
       "          s.src = paths[lib];\n",
       "        });\n",
       "    }\n",
       "\n",
       "    function showError(err) {\n",
       "      outputDiv.innerHTML = `<div class=\"error\" style=\"color:red;\">${err}</div>`;\n",
       "      throw err;\n",
       "    }\n",
       "\n",
       "    function displayChart(vegaEmbed) {\n",
       "      vegaEmbed(outputDiv, spec, embedOpt)\n",
       "        .catch(err => showError(`Javascript Error: ${err.message}<br>This usually means there's a typo in your chart specification. See the javascript console for the full traceback.`));\n",
       "    }\n",
       "\n",
       "    if(typeof define === \"function\" && define.amd) {\n",
       "      requirejs.config({paths});\n",
       "      require([\"vega-embed\"], displayChart, err => showError(`Error loading script: ${err.message}`));\n",
       "    } else {\n",
       "      maybeLoadScript(\"vega\", \"5\")\n",
       "        .then(() => maybeLoadScript(\"vega-lite\", \"4.17.0\"))\n",
       "        .then(() => maybeLoadScript(\"vega-embed\", \"6\"))\n",
       "        .catch(showError)\n",
       "        .then(() => displayChart(vegaEmbed));\n",
       "    }\n",
       "  })({\"config\": {\"view\": {\"continuousWidth\": 400, \"continuousHeight\": 300}}, \"data\": {\"name\": \"data-dc04197eadb05e03e953a5714f4c35b4\"}, \"mark\": \"circle\", \"encoding\": {\"x\": {\"field\": \"x\", \"type\": \"quantitative\"}, \"y\": {\"field\": \"y\", \"type\": \"quantitative\"}}, \"height\": 100, \"width\": 100, \"$schema\": \"https://vega.github.io/schema/vega-lite/v4.17.0.json\", \"datasets\": {\"data-dc04197eadb05e03e953a5714f4c35b4\": [{\"Unnamed: 0\": 0, \"x\": 10.0, \"y\": 8.04}, {\"Unnamed: 0\": 1, \"x\": 8.0, \"y\": 6.95}, {\"Unnamed: 0\": 2, \"x\": 13.0, \"y\": 7.58}, {\"Unnamed: 0\": 3, \"x\": 9.0, \"y\": 8.81}, {\"Unnamed: 0\": 4, \"x\": 11.0, \"y\": 8.33}, {\"Unnamed: 0\": 5, \"x\": 14.0, \"y\": 9.96}, {\"Unnamed: 0\": 6, \"x\": 6.0, \"y\": 7.24}, {\"Unnamed: 0\": 7, \"x\": 4.0, \"y\": 4.26}, {\"Unnamed: 0\": 8, \"x\": 12.0, \"y\": 10.84}, {\"Unnamed: 0\": 9, \"x\": 7.0, \"y\": 4.82}, {\"Unnamed: 0\": 10, \"x\": 5.0, \"y\": 5.68}]}}, {\"mode\": \"vega-lite\"});\n",
       "</script>"
      ],
      "text/plain": [
       "alt.Chart(...)"
      ]
     },
     "execution_count": 29,
     "metadata": {},
     "output_type": "execute_result"
    }
   ],
   "source": [
    "charts[0]"
   ]
  },
  {
   "cell_type": "code",
   "execution_count": 30,
   "id": "22cc700c-8c00-499f-88ed-49bd0c0040fe",
   "metadata": {},
   "outputs": [
    {
     "data": {
      "text/html": [
       "\n",
       "<div id=\"altair-viz-baab97dc408847e3b8210538742c1ae9\"></div>\n",
       "<script type=\"text/javascript\">\n",
       "  var VEGA_DEBUG = (typeof VEGA_DEBUG == \"undefined\") ? {} : VEGA_DEBUG;\n",
       "  (function(spec, embedOpt){\n",
       "    let outputDiv = document.currentScript.previousElementSibling;\n",
       "    if (outputDiv.id !== \"altair-viz-baab97dc408847e3b8210538742c1ae9\") {\n",
       "      outputDiv = document.getElementById(\"altair-viz-baab97dc408847e3b8210538742c1ae9\");\n",
       "    }\n",
       "    const paths = {\n",
       "      \"vega\": \"https://cdn.jsdelivr.net/npm//vega@5?noext\",\n",
       "      \"vega-lib\": \"https://cdn.jsdelivr.net/npm//vega-lib?noext\",\n",
       "      \"vega-lite\": \"https://cdn.jsdelivr.net/npm//vega-lite@4.17.0?noext\",\n",
       "      \"vega-embed\": \"https://cdn.jsdelivr.net/npm//vega-embed@6?noext\",\n",
       "    };\n",
       "\n",
       "    function maybeLoadScript(lib, version) {\n",
       "      var key = `${lib.replace(\"-\", \"\")}_version`;\n",
       "      return (VEGA_DEBUG[key] == version) ?\n",
       "        Promise.resolve(paths[lib]) :\n",
       "        new Promise(function(resolve, reject) {\n",
       "          var s = document.createElement('script');\n",
       "          document.getElementsByTagName(\"head\")[0].appendChild(s);\n",
       "          s.async = true;\n",
       "          s.onload = () => {\n",
       "            VEGA_DEBUG[key] = version;\n",
       "            return resolve(paths[lib]);\n",
       "          };\n",
       "          s.onerror = () => reject(`Error loading script: ${paths[lib]}`);\n",
       "          s.src = paths[lib];\n",
       "        });\n",
       "    }\n",
       "\n",
       "    function showError(err) {\n",
       "      outputDiv.innerHTML = `<div class=\"error\" style=\"color:red;\">${err}</div>`;\n",
       "      throw err;\n",
       "    }\n",
       "\n",
       "    function displayChart(vegaEmbed) {\n",
       "      vegaEmbed(outputDiv, spec, embedOpt)\n",
       "        .catch(err => showError(`Javascript Error: ${err.message}<br>This usually means there's a typo in your chart specification. See the javascript console for the full traceback.`));\n",
       "    }\n",
       "\n",
       "    if(typeof define === \"function\" && define.amd) {\n",
       "      requirejs.config({paths});\n",
       "      require([\"vega-embed\"], displayChart, err => showError(`Error loading script: ${err.message}`));\n",
       "    } else {\n",
       "      maybeLoadScript(\"vega\", \"5\")\n",
       "        .then(() => maybeLoadScript(\"vega-lite\", \"4.17.0\"))\n",
       "        .then(() => maybeLoadScript(\"vega-embed\", \"6\"))\n",
       "        .catch(showError)\n",
       "        .then(() => displayChart(vegaEmbed));\n",
       "    }\n",
       "  })({\"config\": {\"view\": {\"continuousWidth\": 400, \"continuousHeight\": 300}}, \"data\": {\"name\": \"data-d1e6243f0444e95c6a869fb9ce9ffbd6\"}, \"mark\": \"circle\", \"encoding\": {\"x\": {\"field\": \"x\", \"type\": \"quantitative\"}, \"y\": {\"field\": \"y\", \"type\": \"quantitative\"}}, \"height\": 100, \"width\": 100, \"$schema\": \"https://vega.github.io/schema/vega-lite/v4.17.0.json\", \"datasets\": {\"data-d1e6243f0444e95c6a869fb9ce9ffbd6\": [{\"Unnamed: 0\": 0, \"x\": 10.0, \"y\": 9.14}, {\"Unnamed: 0\": 1, \"x\": 8.0, \"y\": 8.14}, {\"Unnamed: 0\": 2, \"x\": 13.0, \"y\": 8.74}, {\"Unnamed: 0\": 3, \"x\": 9.0, \"y\": 8.77}, {\"Unnamed: 0\": 4, \"x\": 11.0, \"y\": 9.26}, {\"Unnamed: 0\": 5, \"x\": 14.0, \"y\": 8.1}, {\"Unnamed: 0\": 6, \"x\": 6.0, \"y\": 6.13}, {\"Unnamed: 0\": 7, \"x\": 4.0, \"y\": 3.1}, {\"Unnamed: 0\": 8, \"x\": 12.0, \"y\": 9.13}, {\"Unnamed: 0\": 9, \"x\": 7.0, \"y\": 7.26}, {\"Unnamed: 0\": 10, \"x\": 5.0, \"y\": 4.74}]}}, {\"mode\": \"vega-lite\"});\n",
       "</script>"
      ],
      "text/plain": [
       "alt.Chart(...)"
      ]
     },
     "execution_count": 30,
     "metadata": {},
     "output_type": "execute_result"
    }
   ],
   "source": [
    "charts[1]"
   ]
  },
  {
   "cell_type": "code",
   "execution_count": 31,
   "id": "875979c1-4768-467c-bdb9-d96184b43d64",
   "metadata": {},
   "outputs": [
    {
     "data": {
      "text/html": [
       "\n",
       "<div id=\"altair-viz-200ce47df6cd47f483ae7f48fdd167ce\"></div>\n",
       "<script type=\"text/javascript\">\n",
       "  var VEGA_DEBUG = (typeof VEGA_DEBUG == \"undefined\") ? {} : VEGA_DEBUG;\n",
       "  (function(spec, embedOpt){\n",
       "    let outputDiv = document.currentScript.previousElementSibling;\n",
       "    if (outputDiv.id !== \"altair-viz-200ce47df6cd47f483ae7f48fdd167ce\") {\n",
       "      outputDiv = document.getElementById(\"altair-viz-200ce47df6cd47f483ae7f48fdd167ce\");\n",
       "    }\n",
       "    const paths = {\n",
       "      \"vega\": \"https://cdn.jsdelivr.net/npm//vega@5?noext\",\n",
       "      \"vega-lib\": \"https://cdn.jsdelivr.net/npm//vega-lib?noext\",\n",
       "      \"vega-lite\": \"https://cdn.jsdelivr.net/npm//vega-lite@4.17.0?noext\",\n",
       "      \"vega-embed\": \"https://cdn.jsdelivr.net/npm//vega-embed@6?noext\",\n",
       "    };\n",
       "\n",
       "    function maybeLoadScript(lib, version) {\n",
       "      var key = `${lib.replace(\"-\", \"\")}_version`;\n",
       "      return (VEGA_DEBUG[key] == version) ?\n",
       "        Promise.resolve(paths[lib]) :\n",
       "        new Promise(function(resolve, reject) {\n",
       "          var s = document.createElement('script');\n",
       "          document.getElementsByTagName(\"head\")[0].appendChild(s);\n",
       "          s.async = true;\n",
       "          s.onload = () => {\n",
       "            VEGA_DEBUG[key] = version;\n",
       "            return resolve(paths[lib]);\n",
       "          };\n",
       "          s.onerror = () => reject(`Error loading script: ${paths[lib]}`);\n",
       "          s.src = paths[lib];\n",
       "        });\n",
       "    }\n",
       "\n",
       "    function showError(err) {\n",
       "      outputDiv.innerHTML = `<div class=\"error\" style=\"color:red;\">${err}</div>`;\n",
       "      throw err;\n",
       "    }\n",
       "\n",
       "    function displayChart(vegaEmbed) {\n",
       "      vegaEmbed(outputDiv, spec, embedOpt)\n",
       "        .catch(err => showError(`Javascript Error: ${err.message}<br>This usually means there's a typo in your chart specification. See the javascript console for the full traceback.`));\n",
       "    }\n",
       "\n",
       "    if(typeof define === \"function\" && define.amd) {\n",
       "      requirejs.config({paths});\n",
       "      require([\"vega-embed\"], displayChart, err => showError(`Error loading script: ${err.message}`));\n",
       "    } else {\n",
       "      maybeLoadScript(\"vega\", \"5\")\n",
       "        .then(() => maybeLoadScript(\"vega-lite\", \"4.17.0\"))\n",
       "        .then(() => maybeLoadScript(\"vega-embed\", \"6\"))\n",
       "        .catch(showError)\n",
       "        .then(() => displayChart(vegaEmbed));\n",
       "    }\n",
       "  })({\"config\": {\"view\": {\"continuousWidth\": 400, \"continuousHeight\": 300}}, \"data\": {\"name\": \"data-5024a805217a8501c5c6d31081780bab\"}, \"mark\": \"circle\", \"encoding\": {\"x\": {\"field\": \"x\", \"type\": \"quantitative\"}, \"y\": {\"field\": \"y\", \"type\": \"quantitative\"}}, \"height\": 100, \"width\": 100, \"$schema\": \"https://vega.github.io/schema/vega-lite/v4.17.0.json\", \"datasets\": {\"data-5024a805217a8501c5c6d31081780bab\": [{\"Unnamed: 0\": 0, \"x\": 10.0, \"y\": 7.46}, {\"Unnamed: 0\": 1, \"x\": 8.0, \"y\": 6.77}, {\"Unnamed: 0\": 2, \"x\": 13.0, \"y\": 12.74}, {\"Unnamed: 0\": 3, \"x\": 9.0, \"y\": 7.11}, {\"Unnamed: 0\": 4, \"x\": 11.0, \"y\": 7.81}, {\"Unnamed: 0\": 5, \"x\": 14.0, \"y\": 8.84}, {\"Unnamed: 0\": 6, \"x\": 6.0, \"y\": 6.08}, {\"Unnamed: 0\": 7, \"x\": 4.0, \"y\": 5.39}, {\"Unnamed: 0\": 8, \"x\": 12.0, \"y\": 8.15}, {\"Unnamed: 0\": 9, \"x\": 7.0, \"y\": 6.42}, {\"Unnamed: 0\": 10, \"x\": 5.0, \"y\": 5.73}]}}, {\"mode\": \"vega-lite\"});\n",
       "</script>"
      ],
      "text/plain": [
       "alt.Chart(...)"
      ]
     },
     "execution_count": 31,
     "metadata": {},
     "output_type": "execute_result"
    }
   ],
   "source": [
    "charts[2]"
   ]
  },
  {
   "cell_type": "code",
   "execution_count": 32,
   "id": "12a36805-2821-4b08-9c5c-30481d2d3150",
   "metadata": {},
   "outputs": [
    {
     "data": {
      "text/html": [
       "\n",
       "<div id=\"altair-viz-f55f6e18107741b09f66f49f0dee22a2\"></div>\n",
       "<script type=\"text/javascript\">\n",
       "  var VEGA_DEBUG = (typeof VEGA_DEBUG == \"undefined\") ? {} : VEGA_DEBUG;\n",
       "  (function(spec, embedOpt){\n",
       "    let outputDiv = document.currentScript.previousElementSibling;\n",
       "    if (outputDiv.id !== \"altair-viz-f55f6e18107741b09f66f49f0dee22a2\") {\n",
       "      outputDiv = document.getElementById(\"altair-viz-f55f6e18107741b09f66f49f0dee22a2\");\n",
       "    }\n",
       "    const paths = {\n",
       "      \"vega\": \"https://cdn.jsdelivr.net/npm//vega@5?noext\",\n",
       "      \"vega-lib\": \"https://cdn.jsdelivr.net/npm//vega-lib?noext\",\n",
       "      \"vega-lite\": \"https://cdn.jsdelivr.net/npm//vega-lite@4.17.0?noext\",\n",
       "      \"vega-embed\": \"https://cdn.jsdelivr.net/npm//vega-embed@6?noext\",\n",
       "    };\n",
       "\n",
       "    function maybeLoadScript(lib, version) {\n",
       "      var key = `${lib.replace(\"-\", \"\")}_version`;\n",
       "      return (VEGA_DEBUG[key] == version) ?\n",
       "        Promise.resolve(paths[lib]) :\n",
       "        new Promise(function(resolve, reject) {\n",
       "          var s = document.createElement('script');\n",
       "          document.getElementsByTagName(\"head\")[0].appendChild(s);\n",
       "          s.async = true;\n",
       "          s.onload = () => {\n",
       "            VEGA_DEBUG[key] = version;\n",
       "            return resolve(paths[lib]);\n",
       "          };\n",
       "          s.onerror = () => reject(`Error loading script: ${paths[lib]}`);\n",
       "          s.src = paths[lib];\n",
       "        });\n",
       "    }\n",
       "\n",
       "    function showError(err) {\n",
       "      outputDiv.innerHTML = `<div class=\"error\" style=\"color:red;\">${err}</div>`;\n",
       "      throw err;\n",
       "    }\n",
       "\n",
       "    function displayChart(vegaEmbed) {\n",
       "      vegaEmbed(outputDiv, spec, embedOpt)\n",
       "        .catch(err => showError(`Javascript Error: ${err.message}<br>This usually means there's a typo in your chart specification. See the javascript console for the full traceback.`));\n",
       "    }\n",
       "\n",
       "    if(typeof define === \"function\" && define.amd) {\n",
       "      requirejs.config({paths});\n",
       "      require([\"vega-embed\"], displayChart, err => showError(`Error loading script: ${err.message}`));\n",
       "    } else {\n",
       "      maybeLoadScript(\"vega\", \"5\")\n",
       "        .then(() => maybeLoadScript(\"vega-lite\", \"4.17.0\"))\n",
       "        .then(() => maybeLoadScript(\"vega-embed\", \"6\"))\n",
       "        .catch(showError)\n",
       "        .then(() => displayChart(vegaEmbed));\n",
       "    }\n",
       "  })({\"config\": {\"view\": {\"continuousWidth\": 400, \"continuousHeight\": 300}}, \"data\": {\"name\": \"data-b9884f90ec78fae1ef24e1b2fd02a5a6\"}, \"mark\": \"circle\", \"encoding\": {\"x\": {\"field\": \"x\", \"type\": \"quantitative\"}, \"y\": {\"field\": \"y\", \"type\": \"quantitative\"}}, \"height\": 100, \"width\": 100, \"$schema\": \"https://vega.github.io/schema/vega-lite/v4.17.0.json\", \"datasets\": {\"data-b9884f90ec78fae1ef24e1b2fd02a5a6\": [{\"Unnamed: 0\": 0, \"x\": 10.0, \"y\": 6.58}, {\"Unnamed: 0\": 1, \"x\": 8.0, \"y\": 5.76}, {\"Unnamed: 0\": 2, \"x\": 13.0, \"y\": 7.71}, {\"Unnamed: 0\": 3, \"x\": 9.0, \"y\": 8.84}, {\"Unnamed: 0\": 4, \"x\": 11.0, \"y\": 8.47}, {\"Unnamed: 0\": 5, \"x\": 14.0, \"y\": 7.04}, {\"Unnamed: 0\": 6, \"x\": 6.0, \"y\": 5.25}, {\"Unnamed: 0\": 7, \"x\": 4.0, \"y\": 12.5}, {\"Unnamed: 0\": 8, \"x\": 12.0, \"y\": 5.56}, {\"Unnamed: 0\": 9, \"x\": 7.0, \"y\": 7.91}, {\"Unnamed: 0\": 10, \"x\": 5.0, \"y\": 6.89}]}}, {\"mode\": \"vega-lite\"});\n",
       "</script>"
      ],
      "text/plain": [
       "alt.Chart(...)"
      ]
     },
     "execution_count": 32,
     "metadata": {},
     "output_type": "execute_result"
    }
   ],
   "source": [
    "charts[3]"
   ]
  },
  {
   "cell_type": "markdown",
   "id": "dcdd39b1",
   "metadata": {},
   "source": [
    "### What do we observe?\n",
    "\n",
    "Your answer here:\n",
    "\n",
    "After observing the graphs, we can see that the data sets are completely different, and we could have easily been fooled if we only looked at the means and standard deveation that were calculated earlier. "
   ]
  },
  {
   "cell_type": "code",
   "execution_count": null,
   "id": "3c644e5e",
   "metadata": {},
   "outputs": [],
   "source": []
  }
 ],
 "metadata": {
  "kernelspec": {
   "display_name": "Python 3 (ipykernel)",
   "language": "python",
   "name": "python3"
  },
  "language_info": {
   "codemirror_mode": {
    "name": "ipython",
    "version": 3
   },
   "file_extension": ".py",
   "mimetype": "text/x-python",
   "name": "python",
   "nbconvert_exporter": "python",
   "pygments_lexer": "ipython3",
   "version": "3.10.8"
  }
 },
 "nbformat": 4,
 "nbformat_minor": 5
}
