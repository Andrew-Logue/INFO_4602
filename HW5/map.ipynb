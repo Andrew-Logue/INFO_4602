{
 "cells": [
  {
   "cell_type": "code",
   "execution_count": null,
   "id": "93628310-30fb-418b-98aa-c16e6ec4578e",
   "metadata": {},
   "outputs": [
    {
     "ename": "TypeError",
     "evalue": "'UndefinedType' object is not callable",
     "output_type": "error",
     "traceback": [
      "\u001b[0;31m---------------------------------------------------------------------------\u001b[0m",
      "\u001b[0;31mTypeError\u001b[0m                                 Traceback (most recent call last)",
      "Cell \u001b[0;32mIn[1], line 14\u001b[0m\n\u001b[1;32m      8\u001b[0m source \u001b[38;5;241m=\u001b[39m data\u001b[38;5;241m.\u001b[39mstocks()\n\u001b[1;32m     10\u001b[0m \u001b[38;5;66;03m# Create a common chart object\u001b[39;00m\n\u001b[1;32m     11\u001b[0m chart \u001b[38;5;241m=\u001b[39m alt\u001b[38;5;241m.\u001b[39mChart(source)\u001b[38;5;241m.\u001b[39mtransform_filter(\n\u001b[1;32m     12\u001b[0m     alt\u001b[38;5;241m.\u001b[39mdatum\u001b[38;5;241m.\u001b[39msymbol \u001b[38;5;241m!=\u001b[39m \u001b[38;5;124m\"\u001b[39m\u001b[38;5;124mIBM\u001b[39m\u001b[38;5;124m\"\u001b[39m  \u001b[38;5;66;03m# A reducation of the dataset to clarify our example. Not required.\u001b[39;00m\n\u001b[1;32m     13\u001b[0m )\u001b[38;5;241m.\u001b[39mencode(\n\u001b[0;32m---> 14\u001b[0m     \u001b[43malt\u001b[49m\u001b[38;5;241;43m.\u001b[39;49m\u001b[43mColor\u001b[49m\u001b[43m(\u001b[49m\u001b[38;5;124;43m\"\u001b[39;49m\u001b[38;5;124;43msymbol\u001b[39;49m\u001b[38;5;124;43m\"\u001b[39;49m\u001b[43m)\u001b[49m\u001b[38;5;241;43m.\u001b[39;49m\u001b[43mlegend\u001b[49m\u001b[43m(\u001b[49m\u001b[38;5;28;43;01mNone\u001b[39;49;00m\u001b[43m)\u001b[49m\n\u001b[1;32m     15\u001b[0m )\n\u001b[1;32m     17\u001b[0m \u001b[38;5;66;03m# Draw the line\u001b[39;00m\n\u001b[1;32m     18\u001b[0m line \u001b[38;5;241m=\u001b[39m chart\u001b[38;5;241m.\u001b[39mmark_line()\u001b[38;5;241m.\u001b[39mencode(\n\u001b[1;32m     19\u001b[0m     x\u001b[38;5;241m=\u001b[39m\u001b[38;5;124m\"\u001b[39m\u001b[38;5;124mdate:T\u001b[39m\u001b[38;5;124m\"\u001b[39m,\n\u001b[1;32m     20\u001b[0m     y\u001b[38;5;241m=\u001b[39m\u001b[38;5;124m\"\u001b[39m\u001b[38;5;124mprice:Q\u001b[39m\u001b[38;5;124m\"\u001b[39m\n\u001b[1;32m     21\u001b[0m )\n",
      "\u001b[0;31mTypeError\u001b[0m: 'UndefinedType' object is not callable"
     ]
    }
   ],
   "source": [
    "# HW5\n",
    "# Andrew Logue\n",
    "# 3/6/2023\n",
    "import altair as alt\n",
    "from vega_datasets import data\n",
    "import pandas as pd\n",
    "\n",
    "counties = alt.topo_feature(data.us_10m.url, 'counties')\n",
    "states = alt.topo_feature(data.us_10m.url, 'states')\n",
    "source = pd.read_csv('covid-data.csv')\n",
    "source = source.drop_duplicates(subset=['county_fips'])\n",
    "\n",
    "#print(counties)\n",
    "#print(states)\n",
    "#print(source)\n",
    "\n",
    "highlight = alt.selection_single(on='mouseover', fields=['id'], empty='none')\n",
    "\n",
    "plot = alt.Chart(counties).mark_geoshape().encode(\n",
    "    color=alt.condition(highlight, alt.value('red'), 'covid_cases_per_100k:Q'),\n",
    "    tooltip=['covid_cases_per_100k:Q', 'county:N']\n",
    ").transform_lookup(\n",
    "    lookup='id',\n",
    "    from_=alt.LookupData(source, 'county_fips', ['covid_cases_per_100k', 'county'])\n",
    ").add_selection(highlight).project(\n",
    "    type='albersUsa'\n",
    ").properties(\n",
    "    width=900,\n",
    "    height=600\n",
    ")\n",
    "\n",
    "outline = alt.Chart(states).mark_geoshape(stroke='blue', fillOpacity=0).project(\n",
    "    type='albersUsa'\n",
    ").properties(\n",
    "    width=700,\n",
    "    height=400\n",
    ")\n",
    "\n",
    "alt.layer(plot,outline)"
   ]
  },
  {
   "cell_type": "code",
   "execution_count": null,
   "id": "f5e02a51-dd27-41ea-b9d6-6f0f3cf604d1",
   "metadata": {},
   "outputs": [],
   "source": []
  }
 ],
 "metadata": {
  "kernelspec": {
   "display_name": "Python 3 (ipykernel)",
   "language": "python",
   "name": "python3"
  },
  "language_info": {
   "codemirror_mode": {
    "name": "ipython",
    "version": 3
   },
   "file_extension": ".py",
   "mimetype": "text/x-python",
   "name": "python",
   "nbconvert_exporter": "python",
   "pygments_lexer": "ipython3",
   "version": "3.10.8"
  }
 },
 "nbformat": 4,
 "nbformat_minor": 5
}
