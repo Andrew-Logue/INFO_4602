{
 "cells": [
  {
   "cell_type": "code",
   "execution_count": 7,
   "id": "44d500f1-efb3-44d4-af22-641092633679",
   "metadata": {},
   "outputs": [
    {
     "ename": "TypeError",
     "evalue": "'UndefinedType' object is not callable",
     "output_type": "error",
     "traceback": [
      "\u001b[0;31m---------------------------------------------------------------------------\u001b[0m",
      "\u001b[0;31mTypeError\u001b[0m                                 Traceback (most recent call last)",
      "Cell \u001b[0;32mIn[7], line 25\u001b[0m\n\u001b[1;32m     17\u001b[0m line \u001b[38;5;241m=\u001b[39m chart\u001b[38;5;241m.\u001b[39mmark_line()\u001b[38;5;241m.\u001b[39mencode(\n\u001b[1;32m     18\u001b[0m     x\u001b[38;5;241m=\u001b[39m\u001b[38;5;124m\"\u001b[39m\u001b[38;5;124mdate:T\u001b[39m\u001b[38;5;124m\"\u001b[39m,\n\u001b[1;32m     19\u001b[0m     y\u001b[38;5;241m=\u001b[39m\u001b[38;5;124m\"\u001b[39m\u001b[38;5;124mprice:Q\u001b[39m\u001b[38;5;124m\"\u001b[39m\n\u001b[1;32m     20\u001b[0m )\n\u001b[1;32m     22\u001b[0m \u001b[38;5;66;03m# Use the `argmax` aggregate to limit the dataset to the final value\u001b[39;00m\n\u001b[1;32m     23\u001b[0m label \u001b[38;5;241m=\u001b[39m chart\u001b[38;5;241m.\u001b[39mencode(\n\u001b[1;32m     24\u001b[0m     x\u001b[38;5;241m=\u001b[39m\u001b[38;5;124m'\u001b[39m\u001b[38;5;124mmax(date):T\u001b[39m\u001b[38;5;124m'\u001b[39m,\n\u001b[0;32m---> 25\u001b[0m     y\u001b[38;5;241m=\u001b[39m\u001b[43malt\u001b[49m\u001b[38;5;241;43m.\u001b[39;49m\u001b[43mY\u001b[49m\u001b[43m(\u001b[49m\u001b[38;5;124;43m'\u001b[39;49m\u001b[38;5;124;43mprice:Q\u001b[39;49m\u001b[38;5;124;43m'\u001b[39;49m\u001b[43m)\u001b[49m\u001b[38;5;241;43m.\u001b[39;49m\u001b[43maggregate\u001b[49m\u001b[43m(\u001b[49m\u001b[43margmax\u001b[49m\u001b[38;5;241;43m=\u001b[39;49m\u001b[38;5;124;43m'\u001b[39;49m\u001b[38;5;124;43mdate\u001b[39;49m\u001b[38;5;124;43m'\u001b[39;49m\u001b[43m)\u001b[49m,\n\u001b[1;32m     26\u001b[0m     text\u001b[38;5;241m=\u001b[39m\u001b[38;5;124m'\u001b[39m\u001b[38;5;124msymbol\u001b[39m\u001b[38;5;124m'\u001b[39m\n\u001b[1;32m     27\u001b[0m )\n\u001b[1;32m     29\u001b[0m \u001b[38;5;66;03m# Create a text label\u001b[39;00m\n\u001b[1;32m     30\u001b[0m text \u001b[38;5;241m=\u001b[39m label\u001b[38;5;241m.\u001b[39mmark_text(align\u001b[38;5;241m=\u001b[39m\u001b[38;5;124m'\u001b[39m\u001b[38;5;124mleft\u001b[39m\u001b[38;5;124m'\u001b[39m, dx\u001b[38;5;241m=\u001b[39m\u001b[38;5;241m4\u001b[39m)\n",
      "\u001b[0;31mTypeError\u001b[0m: 'UndefinedType' object is not callable"
     ]
    }
   ],
   "source": [
    "# HW6\n",
    "# Andrew Logue\n",
    "# 4/10/2023\n",
    "import altair as alt\n",
    "from vega_datasets import data\n",
    "\n",
    "# Import example data\n",
    "source = data.stocks()\n",
    "\n",
    "# Create a common chart object\n",
    "chart = alt.Chart(source).transform_filter(\n",
    "    alt.datum.symbol != \"IBM\"  # A reducation of the dataset to clarify our example. Not required.\n",
    ").encode(\n",
    ")\n",
    "\n",
    "# Draw the line\n",
    "line = chart.mark_line().encode(\n",
    "    x=\"date:T\",\n",
    "    y=\"price:Q\"\n",
    ")\n",
    "\n",
    "# Use the `argmax` aggregate to limit the dataset to the final value\n",
    "label = chart.encode(\n",
    "    x='max(date):T',\n",
    "    y=alt.Y('price:Q').aggregate(argmax='date'),\n",
    "    text='symbol'\n",
    ")\n",
    "\n",
    "# Create a text label\n",
    "text = label.mark_text(align='left', dx=4)\n",
    "\n",
    "# Create a circle annotation\n",
    "circle = label.mark_circle()\n",
    "\n",
    "# Draw the chart with all the layers combined\n",
    "line + circle + text"
   ]
  },
  {
   "cell_type": "code",
   "execution_count": null,
   "id": "6a728058-15a7-47e5-8081-ebbb3e885359",
   "metadata": {},
   "outputs": [],
   "source": []
  },
  {
   "cell_type": "code",
   "execution_count": null,
   "id": "ece4b6c5-4aa4-4ae4-b4ec-62870997cfb7",
   "metadata": {},
   "outputs": [],
   "source": []
  }
 ],
 "metadata": {
  "kernelspec": {
   "display_name": "Python 3 (ipykernel)",
   "language": "python",
   "name": "python3"
  },
  "language_info": {
   "codemirror_mode": {
    "name": "ipython",
    "version": 3
   },
   "file_extension": ".py",
   "mimetype": "text/x-python",
   "name": "python",
   "nbconvert_exporter": "python",
   "pygments_lexer": "ipython3",
   "version": "3.10.8"
  }
 },
 "nbformat": 4,
 "nbformat_minor": 5
}
